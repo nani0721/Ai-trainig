{
 "cells": [
  {
   "cell_type": "code",
   "execution_count": null,
   "id": "edba3224",
   "metadata": {},
   "outputs": [
    {
     "name": "stdout",
     "output_type": "stream",
     "text": [
      "-4029695086082731524\n",
      "45\n",
      "55\n",
      "0\n"
     ]
    }
   ],
   "source": [
    "#DAY-19#\n",
    "#HASHING-Converts the data into a fixed value using hash function\n",
    "#hash()\n",
    "\n",
    "print(hash(\"Harharan\"))\n",
    "print(hash(45))\n",
    "print(hash(55.0))\n",
    "print(hash(False))\n",
    "#Why we using hashing - o(n^2),o(n)\n",
    "#Hash maps,#Hash sets"
   ]
  },
  {
   "cell_type": "code",
   "execution_count": 13,
   "id": "c174c457",
   "metadata": {},
   "outputs": [
    {
     "name": "stdout",
     "output_type": "stream",
     "text": [
      "12\n",
      "34\n",
      "56\n"
     ]
    }
   ],
   "source": [
    "#Time-how much time it will take it to execute a program\n",
    "#space-how much space required to perform a the program\n",
    "n=1000\n",
    "list=[12,34,56]\n",
    "for i in (list):\n",
    "    #for j in (n+1): #o(n^2)\n",
    "    print(i)"
   ]
  },
  {
   "cell_type": "code",
   "execution_count": 10,
   "id": "503f1f2a",
   "metadata": {},
   "outputs": [
    {
     "name": "stdout",
     "output_type": "stream",
     "text": [
      "4345030866606879283\n",
      "-679384308925098577\n",
      "-1721748670648699777\n"
     ]
    }
   ],
   "source": [
    "list=[\"cheri\",\"pinky\",\"candy\"]\n",
    "for i in list:\n",
    "    print(hash(i))"
   ]
  },
  {
   "cell_type": "code",
   "execution_count": 17,
   "id": "01ed835b",
   "metadata": {},
   "outputs": [
    {
     "name": "stdout",
     "output_type": "stream",
     "text": [
      "{'g': 2, 'o': 3, 'd': 1, ' ': 1, 'm': 1, 'r': 1, 'n': 2, 'i': 1}\n"
     ]
    }
   ],
   "source": [
    "#hash set\n",
    "#hash map\n",
    "#counter ,dict,defaultdict\n",
    "#Good Morning - count the character\n",
    "\n",
    "a=\"good morning\"\n",
    "b={}\n",
    "for i in a:\n",
    "    if i not in b:\n",
    "        b[i]=1\n",
    "    else:\n",
    "        b[i]+=1\n",
    "print(b)\n"
   ]
  },
  {
   "cell_type": "code",
   "execution_count": 18,
   "id": "1ba6e2d9",
   "metadata": {},
   "outputs": [
    {
     "name": "stdout",
     "output_type": "stream",
     "text": [
      "Counter({'a': 3, 'n': 2, 'b': 1})\n"
     ]
    }
   ],
   "source": [
    "from collections import Counter\n",
    "a=\"banana\"\n",
    "print(Counter(a))"
   ]
  },
  {
   "cell_type": "code",
   "execution_count": 19,
   "id": "c157ec3a",
   "metadata": {},
   "outputs": [
    {
     "name": "stdout",
     "output_type": "stream",
     "text": [
      "{'b': 1, 'a': 3, 'n': 2}\n"
     ]
    }
   ],
   "source": [
    "a=\"banana\"\n",
    "dict={}\n",
    "for ch in a:\n",
    "    if ch in dict:\n",
    "        dict[ch]+=1\n",
    "    else:\n",
    "        dict[ch]=1\n",
    "print(dict)\n"
   ]
  },
  {
   "cell_type": "code",
   "execution_count": 2,
   "id": "769c43a0",
   "metadata": {},
   "outputs": [
    {
     "name": "stdout",
     "output_type": "stream",
     "text": [
      "6878048469552053556\n",
      "2425043504637259441\n"
     ]
    }
   ],
   "source": [
    "#counter ,dict, defaultdict,set\n",
    "person={\"name\":\"Avani\",\"age\":40}\n",
    "print(hash(\"name\"))\n",
    "print(hash(\"age\"))"
   ]
  },
  {
   "cell_type": "code",
   "execution_count": null,
   "id": "8dbb6ebe",
   "metadata": {},
   "outputs": [],
   "source": [
    "#This hash value will help to store and we can find it very fast.\n",
    "#hashable- it can be used as dict key or set element"
   ]
  },
  {
   "cell_type": "code",
   "execution_count": 10,
   "id": "f9ebeb2c",
   "metadata": {},
   "outputs": [
    {
     "name": "stdout",
     "output_type": "stream",
     "text": [
      "101\n",
      "101\n",
      "Rizwan\n"
     ]
    }
   ],
   "source": [
    "#Custom class using __hash__ and __eq__ function:\n",
    "\n",
    "class student():\n",
    "    def __init__(self,roll):\n",
    "        self.roll=roll\n",
    "    def __hash__(self):\n",
    "        return hash(self.roll)\n",
    "    def __eq__(self,other):\n",
    "        return self.roll==other.roll\n",
    "    \n",
    "s1=student(101)\n",
    "s2=student(101)\n",
    "\n",
    "print(hash(s1))\n",
    "print(hash(s2))\n",
    "d={}\n",
    "d[s1]=\"Rizwan\"\n",
    "print(d[s2])"
   ]
  },
  {
   "cell_type": "code",
   "execution_count": 19,
   "id": "a7c8accd",
   "metadata": {},
   "outputs": [
    {
     "name": "stdout",
     "output_type": "stream",
     "text": [
      "4025328470415505259\n",
      "4005071248478952676\n"
     ]
    }
   ],
   "source": [
    "#Hash Collision - twp different objects may return the same hash\n",
    "print(hash(\"Aa\"))\n",
    "print(hash(\"Bb\"))\n",
    "\n"
   ]
  },
  {
   "cell_type": "code",
   "execution_count": 23,
   "id": "e8ab5c9d",
   "metadata": {},
   "outputs": [
    {
     "name": "stdout",
     "output_type": "stream",
     "text": [
      "['Orange', 'Apple', 'Grape', 'Guava']\n"
     ]
    }
   ],
   "source": [
    "List=[\"Orange\",\"Apple\",\"Grape\",\"Guava\",\"Orange\",\"Apple\",\"Orange\"]\n",
    "\n",
    "unique_list=[]\n",
    "\n",
    "for i in List:\n",
    "\tif i not in unique_list:\n",
    "\t\tunique_list.append(i)\n",
    "\n",
    "print(unique_list)"
   ]
  },
  {
   "cell_type": "code",
   "execution_count": 24,
   "id": "3cd0e90e",
   "metadata": {},
   "outputs": [
    {
     "name": "stdout",
     "output_type": "stream",
     "text": [
      "{'Apple', 'Grape', 'Guava', 'Orange'}\n"
     ]
    }
   ],
   "source": [
    "List=[\"Orange\",\"Apple\",\"Grape\",\"Guava\",\"Orange\",\"Apple\",\"Orange\"]\n",
    "#using set method\n",
    "\n",
    "print(set(List))"
   ]
  },
  {
   "cell_type": "code",
   "execution_count": 27,
   "id": "d94bfad0",
   "metadata": {},
   "outputs": [
    {
     "name": "stdout",
     "output_type": "stream",
     "text": [
      "['The', 'sat', 'on', 'the']\n"
     ]
    }
   ],
   "source": [
    "a=\"The cat sat on the mat\"\n",
    "b=\"The dog sat on the fog\"\n",
    "# to find the common words\n",
    "a_words = a.split()\n",
    "b_words = b.split()\n",
    "common = []\n",
    "for word in a_words:\n",
    "    if word in b_words:\n",
    "        common.append(word)\n",
    "print(common)\n"
   ]
  },
  {
   "cell_type": "code",
   "execution_count": null,
   "id": "80865b6f",
   "metadata": {},
   "outputs": [
    {
     "name": "stdout",
     "output_type": "stream",
     "text": [
      "{'the', 'sat', 'The', 'on'}\n"
     ]
    }
   ],
   "source": [
    "a=\"The cat sat on the mat\"\n",
    "b=\"The dog sat on the fog\"\n",
    "# to find common words using set\n",
    "a_words = a.split()\n",
    "b_words = b.split()\n",
    "common_words = (set(a_words) & set(b_words))\n",
    "print(common_words)                  "
   ]
  },
  {
   "cell_type": "code",
   "execution_count": 32,
   "id": "caff1ef8",
   "metadata": {},
   "outputs": [
    {
     "name": "stdout",
     "output_type": "stream",
     "text": [
      "['The', 'sat', 'on', 'the']\n"
     ]
    }
   ],
   "source": [
    "a=\"The cat sat on the mat\"\n",
    "b=\"The dog sat on the fog\"\n",
    "\n",
    "list1=[]\n",
    "for w1 in a.split():\n",
    "    for w2 in b.split():\n",
    "        if w1==w2 and w1 not in list1:\n",
    "            list1.append(w1)\n",
    "print(list1)\n"
   ]
  },
  {
   "cell_type": "code",
   "execution_count": 33,
   "id": "09c23a11",
   "metadata": {},
   "outputs": [
    {
     "name": "stdout",
     "output_type": "stream",
     "text": [
      "['the', 'sat', 'The', 'on']\n"
     ]
    }
   ],
   "source": [
    "a=\"The cat sat on the mat\"\n",
    "b=\"The dog sat on the fog\"\n",
    "\n",
    "result=list(set(a.split())&set(b.split()))\n",
    "print(result)"
   ]
  },
  {
   "cell_type": "code",
   "execution_count": null,
   "id": "3fe32936",
   "metadata": {},
   "outputs": [
    {
     "name": "stdout",
     "output_type": "stream",
     "text": [
      "[['A1', ['Chennai', 'Mumbai']], ['B1', ['Kozhikode']], ['C1', ['Erode']]]\n"
     ]
    }
   ],
   "source": [
    "def grouping(pairs):\n",
    "    list1=[]\n",
    "    for code, location in pairs:\n",
    "        found= False\n",
    "        for group in list1:\n",
    "            if(group[0]==code):\n",
    "                group[1].append(location)\n",
    "                found =True\n",
    "        if not found:\n",
    "            list1.append([code,[location]])\n",
    "    return list1\n",
    "\n",
    "data=[(\"A1\",\"Chennai\"),(\"B1\",\"Kozhikode\"),(\"A1\",\"Mumbai\"),(\"C1\",\"Erode\")]\n",
    "print(grouping(data))\n"
   ]
  },
  {
   "cell_type": "code",
   "execution_count": 38,
   "id": "16c15f38",
   "metadata": {},
   "outputs": [
    {
     "name": "stdout",
     "output_type": "stream",
     "text": [
      "{'A1': ['Chennai', 'Mumbai'], 'B1': ['Kozhikode'], 'C1': ['Erode']}\n"
     ]
    }
   ],
   "source": [
    "data=[(\"A1\",\"Chennai\"),(\"B1\",\"Kozhikode\"),(\"A1\",\"Mumbai\"),(\"C1\",\"Erode\")]\n",
    "dictionary={}\n",
    "for code,location in data:\n",
    "    if code not in dictionary:\n",
    "        dictionary[code]=[]\n",
    "    dictionary[code].append(location)\n",
    "print(dictionary)"
   ]
  }
 ],
 "metadata": {
  "kernelspec": {
   "display_name": "Python 3",
   "language": "python",
   "name": "python3"
  },
  "language_info": {
   "codemirror_mode": {
    "name": "ipython",
    "version": 3
   },
   "file_extension": ".py",
   "mimetype": "text/x-python",
   "name": "python",
   "nbconvert_exporter": "python",
   "pygments_lexer": "ipython3",
   "version": "3.13.5"
  }
 },
 "nbformat": 4,
 "nbformat_minor": 5
}
