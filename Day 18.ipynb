{
 "cells": [
  {
   "cell_type": "code",
   "execution_count": null,
   "id": "92e89934",
   "metadata": {},
   "outputs": [],
   "source": [
    "#DAY 18#"
   ]
  },
  {
   "cell_type": "code",
   "execution_count": null,
   "id": "6cb4f7a9",
   "metadata": {},
   "outputs": [],
   "source": []
  },
  {
   "cell_type": "code",
   "execution_count": 2,
   "id": "24bb0de1",
   "metadata": {},
   "outputs": [
    {
     "name": "stdout",
     "output_type": "stream",
     "text": [
      "Hello\n",
      "l\n"
     ]
    }
   ],
   "source": [
    "#Strings\n",
    "a=\"Hello\"\n",
    "\n",
    "print(a)\n",
    "print(a[2:4:3])"
   ]
  },
  {
   "cell_type": "code",
   "execution_count": 30,
   "id": "7b601c62",
   "metadata": {},
   "outputs": [
    {
     "name": "stdout",
     "output_type": "stream",
     "text": [
      "hola fady\n",
      "hola niranjan\n",
      "hola Niranjan\n",
      "hola Niranjan\n"
     ]
    }
   ],
   "source": [
    "#lower upper replace strip count split getoff find alpha join\n",
    "\n",
    "\n",
    "\n",
    "a=\"hola Niranjan\"\n",
    "print(a.replace(\"Niranjan\",\"fady\"))\n",
    "print(a.lower())\n",
    "print(a)\n",
    "print(a.strip())\n"
   ]
  },
  {
   "cell_type": "code",
   "execution_count": 21,
   "id": "77d3c6ef",
   "metadata": {},
   "outputs": [
    {
     "name": "stdout",
     "output_type": "stream",
     "text": [
      "FIZZ\n"
     ]
    }
   ],
   "source": [
    "#Quiz Buzz problem\n",
    "\n",
    "num=int(input(\"Enter the number : \"))\n",
    "if num%3==0 and num%5==0:\n",
    "    print(\"FIZZ BUZZ\")\n",
    "elif num%3==0:\n",
    "    print(\"FIZZ\")\n",
    "else:\n",
    "    print(\"BUZZ\")\n",
    "\n",
    "\n",
    "\n"
   ]
  },
  {
   "cell_type": "code",
   "execution_count": 31,
   "id": "04ea4bce",
   "metadata": {},
   "outputs": [
    {
     "name": "stdout",
     "output_type": "stream",
     "text": [
      "fun is structure Data\n"
     ]
    }
   ],
   "source": [
    "# a=\"Data structure is fun\"\n",
    "\n",
    "# print(a[::-1])\n",
    "a = \"Data structure is fun\"\n",
    "reversed_sentence = ' '.join(a.split()[::-1])\n",
    "print(reversed_sentence)\n"
   ]
  },
  {
   "cell_type": "code",
   "execution_count": null,
   "id": "b4cc29dd",
   "metadata": {},
   "outputs": [
    {
     "ename": "AttributeError",
     "evalue": "'str' object has no attribute 'append'",
     "output_type": "error",
     "traceback": [
      "\u001b[31m---------------------------------------------------------------------------\u001b[39m",
      "\u001b[31mAttributeError\u001b[39m                            Traceback (most recent call last)",
      "\u001b[36mCell\u001b[39m\u001b[36m \u001b[39m\u001b[32mIn[29]\u001b[39m\u001b[32m, line 4\u001b[39m\n\u001b[32m      2\u001b[39m s=\u001b[33m\"\u001b[39m\u001b[33m \u001b[39m\u001b[33m\"\u001b[39m\n\u001b[32m      3\u001b[39m \u001b[38;5;28;01mfor\u001b[39;00m i \u001b[38;5;129;01min\u001b[39;00m \u001b[38;5;28mrange\u001b[39m(\u001b[32m10\u001b[39m):\n\u001b[32m----> \u001b[39m\u001b[32m4\u001b[39m     \u001b[43ms\u001b[49m\u001b[43m.\u001b[49m\u001b[43mappend\u001b[49m(\u001b[33m\"\u001b[39m\u001b[33ma\u001b[39m\u001b[33m\"\u001b[39m)\n\u001b[32m      5\u001b[39m char=\u001b[33m\"\u001b[39m\u001b[33m \u001b[39m\u001b[33m\"\u001b[39m.join(s)\n\u001b[32m      6\u001b[39m \u001b[38;5;28mprint\u001b[39m(char)\n",
      "\u001b[31mAttributeError\u001b[39m: 'str' object has no attribute 'append'"
     ]
    }
   ],
   "source": [
    "#+= => It will slow , Join\n",
    "s=\" \"\n",
    "for i in range(10):\n",
    "    s.append(\"a\")\n",
    "char=\" \".join(s)\n",
    "print(char) "
   ]
  },
  {
   "cell_type": "code",
   "execution_count": null,
   "id": "f7a4eda8",
   "metadata": {},
   "outputs": [],
   "source": [
    "#strings also immutable\n",
    "#Mostly it avoids += operator\n",
    "\n",
    "#substring-A sequence of characters within a string\n",
    "s=\"abc\" #a,b,c,ab,ac,bc\n",
    "#brute force\n",
    "#first loop i=0\n",
    "#j=1->[0:1]-a\n",
    "#j=2->[0:2]-ab\n",
    "#j=3->[0:3]-abc\n",
    "\n",
    "#i=1,,,\n",
    "#j=1->[1:1]-0\n",
    "#j=2->[1:2]-b\n",
    "#j=3->[1:3]-bc\n",
    "\n"
   ]
  },
  {
   "cell_type": "code",
   "execution_count": 34,
   "id": "dabedc59",
   "metadata": {},
   "outputs": [
    {
     "name": "stdout",
     "output_type": "stream",
     "text": [
      "a\n",
      "ab\n",
      "abc\n",
      "b\n",
      "bc\n",
      "c\n"
     ]
    }
   ],
   "source": [
    "s=\"abc\"\n",
    "n=len(s)\n",
    "for i in range(n):\n",
    "    for j in range(i+1,n+1):\n",
    "        print(s[i:j]) "
   ]
  },
  {
   "cell_type": "code",
   "execution_count": null,
   "id": "9120a0fe",
   "metadata": {},
   "outputs": [
    {
     "data": {
      "text/plain": [
       "11"
      ]
     },
     "execution_count": 40,
     "metadata": {},
     "output_type": "execute_result"
    }
   ],
   "source": [
    "#count palindromic substrings\n",
    "def palindrome(s):\n",
    "    count=0\n",
    "    n=len(s)\n",
    "    for i in range(n):\n",
    "        for j in range(i+1,n+1):\n",
    "            if s[i:j]==s[i:j][::-1]:\n",
    "                count+=1\n",
    "    return count\n",
    "palindrome(\"abba\")\n",
    "#first i = 0 , then jvalues will be 1, 2, 3, 4\n",
    "#[0:1] a - a\n",
    "#[0:2] -ab\n",
    "#[0:3] abb -bba\n",
    "#[0:4] abba -abba\n",
    "#second i = 1 , then j = 1,2,3,4\n",
    "#[1:1] - 0\n",
    "#[1:2] b-b\n",
    "#[1:3] bb bb -\n",
    "#[1:4] bba abb\n",
    "\n"
   ]
  },
  {
   "cell_type": "code",
   "execution_count": null,
   "id": "5c4d09db",
   "metadata": {},
   "outputs": [],
   "source": [
    "#sliding window\n",
    "#prefix sums for strings\n",
    "#Rolling Hash"
   ]
  },
  {
   "cell_type": "code",
   "execution_count": 41,
   "id": "4e0e5b90",
   "metadata": {},
   "outputs": [
    {
     "name": "stdout",
     "output_type": "stream",
     "text": [
      "Longest substring without repeating characters: abc\n"
     ]
    }
   ],
   "source": [
    "#Longest substring without repeating \n",
    "#Input -\"abcabcbb\"\n",
    "\n",
    "s = \"abcabcbb\"\n",
    "longest = \"\"\n",
    "current = \"\"\n",
    "\n",
    "for char in s:\n",
    "    if char not in current:\n",
    "        current += char\n",
    "    else:\n",
    "        if len(current) > len(longest):\n",
    "            longest = current\n",
    "        # remove all characters before the repeated one\n",
    "        index = current.index(char)\n",
    "        current = current[index + 1:] + char\n",
    "\n",
    "# check one last time after loop ends\n",
    "if len(current) > len(longest):\n",
    "    longest = current\n",
    "\n",
    "print(\"Longest substring without repeating characters:\", longest)\n",
    "\n",
    "\n"
   ]
  },
  {
   "cell_type": "code",
   "execution_count": 43,
   "id": "45193351",
   "metadata": {},
   "outputs": [
    {
     "data": {
      "text/plain": [
       "3"
      ]
     },
     "execution_count": 43,
     "metadata": {},
     "output_type": "execute_result"
    }
   ],
   "source": [
    "#Longest substring without repeating \n",
    "#Input -\"abcabcbb\"\n",
    "\n",
    "def l_s(s):\n",
    "    n=len(s)\n",
    "    m_l=0\n",
    "    for i in range(n):\n",
    "        seen=set()\n",
    "        for j in range(i,n):\n",
    "            if s[j] in seen:\n",
    "                break\n",
    "            seen.add(s[j])\n",
    "            m_l=max(m_l,j-i+1)\n",
    "    return m_l\n",
    "l_s(\"abcabcbb\")\n"
   ]
  },
  {
   "cell_type": "markdown",
   "id": "6a0c0201",
   "metadata": {},
   "source": []
  }
 ],
 "metadata": {
  "kernelspec": {
   "display_name": "Python 3",
   "language": "python",
   "name": "python3"
  },
  "language_info": {
   "codemirror_mode": {
    "name": "ipython",
    "version": 3
   },
   "file_extension": ".py",
   "mimetype": "text/x-python",
   "name": "python",
   "nbconvert_exporter": "python",
   "pygments_lexer": "ipython3",
   "version": "3.13.5"
  }
 },
 "nbformat": 4,
 "nbformat_minor": 5
}
