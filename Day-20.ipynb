{
 "cells": [
  {
   "cell_type": "code",
   "execution_count": null,
   "id": "e1594f4f",
   "metadata": {},
   "outputs": [],
   "source": [
    "#DAY-20#"
   ]
  },
  {
   "cell_type": "code",
   "execution_count": 1,
   "id": "007d81f5",
   "metadata": {},
   "outputs": [
    {
     "data": {
      "text/plain": [
       "'\\n1.Push-Add the element in to the stack\\n2.Pop-Remove the elements from the stack\\n3.Top (or) peek-It returns the top of the element(last element)\\n4.Isempty- Checks wheather the stack is empty or not\\n5.Size-The six=ze of the stack\\n\\n'"
      ]
     },
     "execution_count": 1,
     "metadata": {},
     "output_type": "execute_result"
    }
   ],
   "source": [
    "#Stack:LIFO[LAST IN FIRST OUT]\n",
    "#Queue:FIFO[FIRST IN FIRST OUT]\n",
    "#Linear data structure #o(1)\n",
    "#Stack Methods\n",
    "'''\n",
    "1.Push-Add the element in to the stack\n",
    "2.Pop-Remove the elements from the stack\n",
    "3.Top (or) peek-It returns the top of the element(last element)\n",
    "4.Isempty- Checks wheather the stack is empty or not\n",
    "5.Size-The six=ze of the stack\n",
    "\n",
    "'''\n"
   ]
  },
  {
   "cell_type": "code",
   "execution_count": 21,
   "id": "98170287",
   "metadata": {},
   "outputs": [
    {
     "name": "stdout",
     "output_type": "stream",
     "text": [
      "None\n",
      "None\n",
      "None\n",
      "[3, 6, 7]\n",
      "[3, 6]\n",
      "[3, 6]\n"
     ]
    },
    {
     "data": {
      "text/plain": [
       "2"
      ]
     },
     "execution_count": 21,
     "metadata": {},
     "output_type": "execute_result"
    }
   ],
   "source": [
    "class Stack():\n",
    "    def __init__(self):\n",
    "        self.stack=[]\n",
    "    def push(self,elements):\n",
    "        self.stack.append(elements)\n",
    "    def pop(self):\n",
    "        if self.is_empty():\n",
    "            print(\"The stack is empty so we cant pop\") \n",
    "        return self.stack.pop()\n",
    "    def peek(self):\n",
    "        return self.stack[-1]\n",
    "    def is_empty(self):\n",
    "        return len(self.stack)==0\n",
    "    def size(self):\n",
    "        return len(self.stack)\n",
    "    def display(self):\n",
    "        print(self.stack)\n",
    "mystack=Stack()\n",
    "print(mystack.push(3))\n",
    "print(mystack.push(6))\n",
    "print(mystack.push(7))\n",
    "mystack.display()\n",
    "mystack.pop()\n",
    "mystack.display()\n",
    "mystack.peek()\n",
    "mystack.display()\n",
    "mystack.is_empty()\n",
    "mystack.size()\n",
    "    \n",
    "    "
   ]
  },
  {
   "cell_type": "code",
   "execution_count": 34,
   "id": "e752fb31",
   "metadata": {},
   "outputs": [
    {
     "name": "stdout",
     "output_type": "stream",
     "text": [
      "False\n",
      "True\n",
      "False\n",
      "True\n",
      "False\n",
      "True\n",
      "True\n"
     ]
    }
   ],
   "source": [
    "#ex, {()}\n",
    "#valid paranthesis\n",
    "s=\"{()}\"\n",
    "pairs = {')':'(',']':'[','}':'{'}\n",
    "#stack concept\n",
    "list=[]\n",
    "for ch in pairs:\n",
    "    if ch in pairs.values():  #opening brackets\n",
    "        list.append(ch)\n",
    "    elif  ch in pairs:          #closing brackets\n",
    "        if not list or list.pop()!=pairs[ch]:#closing Brackets\n",
    "            print(\"False\")\n",
    "        print(\"True\")\n",
    "print(len(list)==0)\n",
    "#)\n",
    "#]\n",
    "#}\n"
   ]
  },
  {
   "cell_type": "code",
   "execution_count": null,
   "id": "aefe7a09",
   "metadata": {},
   "outputs": [],
   "source": [
    "class minstack():\n",
    "    def __init__(self):\n",
    "        self.stack=[]\n",
    "        self.min_stack=[]\n",
    "    def push(self,val):\n",
    "        self.stack.append(val)\n",
    "        print(self.stack)\n",
    "        if not self.min_stack or val <= self.min_stack[-1]:\n",
    "            self.min_stack.append(val) \n",
    "            print(self.min_stack)\n",
    "    \n",
    "    def pop(self):\n",
    "        if self.stack[-1]==self.min_stack[-1]:\n",
    "            return self.min_stack\n",
    "        return self.stack.pop()\n",
    "    \n",
    "    def top(self):\n",
    "        return self.min_stack[-1]\n",
    "    def get_min(self):\n",
    "        return self.min_stack[-1]\n",
    "    \n",
    "    A1=\n",
    "        \n",
    "\n",
    "\n"
   ]
  },
  {
   "cell_type": "code",
   "execution_count": 36,
   "id": "1a6745f1",
   "metadata": {},
   "outputs": [
    {
     "name": "stdout",
     "output_type": "stream",
     "text": [
      "True\n"
     ]
    }
   ],
   "source": [
    "s=\"ab#c\"\n",
    "t=\"ad#c\"\n",
    "s1=[]\n",
    "s2=[]\n",
    "for ch in s:\n",
    "    if ch!=\"#\":\n",
    "        s1.append(ch)\n",
    "    elif s1:\n",
    "        s1.pop()\n",
    "for ch in t:\n",
    "    if ch != \"#\":\n",
    "        s2.append(ch)\n",
    "    elif s2:\n",
    "        s2.pop()\n",
    "print(s1==s2)"
   ]
  },
  {
   "cell_type": "code",
   "execution_count": null,
   "id": "3ff2fe5b",
   "metadata": {},
   "outputs": [
    {
     "name": "stdout",
     "output_type": "stream",
     "text": [
      "24\n",
      "56\n",
      "True\n",
      "deque([])\n"
     ]
    }
   ],
   "source": [
    "from collections import deque\n",
    "stack=deque()\n",
    "stack.append(56)\n",
    "stack.append(24)\n",
    "\n",
    "print(stack.pop())\n",
    "print(stack.pop())\n",
    "print(not stack)\n",
    "print(stack)\n"
   ]
  }
 ],
 "metadata": {
  "kernelspec": {
   "display_name": "Python 3",
   "language": "python",
   "name": "python3"
  },
  "language_info": {
   "codemirror_mode": {
    "name": "ipython",
    "version": 3
   },
   "file_extension": ".py",
   "mimetype": "text/x-python",
   "name": "python",
   "nbconvert_exporter": "python",
   "pygments_lexer": "ipython3",
   "version": "3.13.5"
  }
 },
 "nbformat": 4,
 "nbformat_minor": 5
}
