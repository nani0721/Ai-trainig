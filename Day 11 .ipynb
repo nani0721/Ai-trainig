{
 "cells": [
  {
   "cell_type": "code",
   "execution_count": null,
   "id": "84bf7c0c",
   "metadata": {},
   "outputs": [],
   "source": [
    "# Day 11\n",
    "\n",
    "\n",
    "#process - A program in execution\n",
    "#thread - smallest unit of execcution in an operation system; it helps us to allow the program to execute sequential actions or many actions concurrently\n",
    "\n",
    "#multi threading\n",
    "        # thread module - used for low level threading\n",
    "        #threading module - used for high level threading"
   ]
  },
  {
   "cell_type": "code",
   "execution_count": null,
   "id": "10250dbe",
   "metadata": {},
   "outputs": [
    {
     "name": "stdout",
     "output_type": "stream",
     "text": [
      "Hi Hi Hi\n",
      "The thread name is Thread 1\n"
     ]
    }
   ],
   "source": [
    "from threading import Thread\n",
    "\n",
    "def my_func():\n",
    "    print(f\"The thread name is Thread 1\")\n",
    "\n",
    "def my_func1():\n",
    "    print(\"Hi Hi Hi\")\n",
    "\n",
    "t1 = Thread(target=my_func)\n",
    "t2 = Thread(target=my_func1)\n",
    "t2.start()\n",
    "t1.start()\n",
    "t1.join() \n"
   ]
  },
  {
   "cell_type": "code",
   "execution_count": null,
   "id": "9aac7e74",
   "metadata": {},
   "outputs": [],
   "source": [
    "#Run multipl thread parallelly\n",
    "\n",
    "from threading import Thread\n",
    "def my_func(name):\n",
    "    print(f\"the name is {name}\")\n",
    "t1 = Thread(target = my_func,args=('Godson',)).start()\n",
    "t2 = Thread(target = my_func,args=('razi',)).start()\n"
   ]
  }
 ],
 "metadata": {
  "kernelspec": {
   "display_name": "Python 3",
   "language": "python",
   "name": "python3"
  },
  "language_info": {
   "name": "python",
   "version": "3.13.5"
  }
 },
 "nbformat": 4,
 "nbformat_minor": 5
}
