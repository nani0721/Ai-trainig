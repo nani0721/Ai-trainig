{
 "cells": [
  {
   "cell_type": "code",
   "execution_count": null,
   "id": "4c7d0a69",
   "metadata": {},
   "outputs": [],
   "source": [
    "#Day 16#"
   ]
  },
  {
   "cell_type": "code",
   "execution_count": null,
   "id": "9a5cc44b",
   "metadata": {},
   "outputs": [],
   "source": [
    "#Array-\n",
    "#[78,90,67,\"anu\",\"bhai\",\"True\"] -List\n",
    "\n",
    "#Similar data types - List\n",
    "#Find the second largest number \n",
    "#arr -[20,5,8,10]-output is 10\n",
    "\n",
    "\n"
   ]
  },
  {
   "cell_type": "code",
   "execution_count": 7,
   "id": "07681594",
   "metadata": {},
   "outputs": [
    {
     "name": "stdout",
     "output_type": "stream",
     "text": [
      "10\n",
      "[5, 8, 10, 20]\n"
     ]
    }
   ],
   "source": [
    "array=[20,5,8,10]\n",
    "array.sort()\n",
    "print(array[-2]) \n",
    "print(array)"
   ]
  },
  {
   "cell_type": "code",
   "execution_count": 1,
   "id": "5dd080e9",
   "metadata": {},
   "outputs": [
    {
     "name": "stdout",
     "output_type": "stream",
     "text": [
      "10\n"
     ]
    }
   ],
   "source": [
    "arr=[20,5,8,10]\n",
    "for i in range(len(arr)-1):\n",
    "    if arr[i]>arr[i+1]:\n",
    "        temp=arr[i]\n",
    "        arr[i]=arr[i+1]\n",
    "        arr[i+1]=temp\n",
    "print(arr[-2])"
   ]
  },
  {
   "cell_type": "code",
   "execution_count": 2,
   "id": "701adfe3",
   "metadata": {},
   "outputs": [
    {
     "name": "stdout",
     "output_type": "stream",
     "text": [
      "Fady is present.\n",
      "Mufeed is absent.\n",
      "Shaheem is absent.\n",
      "Razeen is absent.\n"
     ]
    }
   ],
   "source": [
    "#just create one array\n",
    "#Attendanace tracker\n",
    "\n",
    "\n",
    "# List of students\n",
    "Students = [\"Fady\", \"Mufeed\", \"Shaheem\", \"Razeen\"]\n",
    "\n",
    "# Take input for present students (comma-separated)\n",
    "present_students = input(\"Enter names of present students, separated by commas: \").split(',')\n",
    "\n",
    "# Clean spaces from input\n",
    "present_students = [name.strip() for name in present_students]\n",
    "\n",
    "# Mark attendance\n",
    "for student in Students:\n",
    "    if student in present_students:\n",
    "        print(f\"{student} is present.\")\n",
    "    else:\n",
    "        print(f\"{student} is absent.\")\n"
   ]
  },
  {
   "cell_type": "code",
   "execution_count": 3,
   "id": "6ed5d783",
   "metadata": {},
   "outputs": [
    {
     "name": "stdout",
     "output_type": "stream",
     "text": [
      "['Mufeed', 'Razeen']\n"
     ]
    }
   ],
   "source": [
    "class_total_students=[\"Fady\",\"Mufeed\",\"Shaheem\",\"Razeen\"]\n",
    "present=[\"Fady\",\"Shaheem\"]\n",
    "absentees=[]\n",
    "for i in class_total_students:\n",
    "    if i not in present:\n",
    "        absentees.append(i)\n",
    "print(absentees)"
   ]
  },
  {
   "cell_type": "code",
   "execution_count": 4,
   "id": "ebc100d1",
   "metadata": {},
   "outputs": [
    {
     "name": "stdout",
     "output_type": "stream",
     "text": [
      "[50, 108.0, 50, 20, 162.0]\n"
     ]
    }
   ],
   "source": [
    "#Consider the list of product price\n",
    "#above 100 after performing the discount of 10%\n",
    "\n",
    "product_prices = [50,120,50,20,180]\n",
    "#perform 10% discount to product_price above 100\n",
    "\n",
    "discounted_prices = []\n",
    "for price in product_prices:\n",
    "    if price > 100:\n",
    "        discounted_price = price - (price * 0.10)  # 10% discount\n",
    "        discounted_prices.append(discounted_price)\n",
    "    else:\n",
    "        discounted_prices.append(price)\n",
    "print(discounted_prices)\n"
   ]
  },
  {
   "cell_type": "code",
   "execution_count": 6,
   "id": "d413ee37",
   "metadata": {},
   "outputs": [
    {
     "name": "stdout",
     "output_type": "stream",
     "text": [
      "[120, 180]\n"
     ]
    }
   ],
   "source": [
    "prices=[50,120,50,20,180]\n",
    "p1=[]\n",
    "for p in prices:\n",
    "    if p*0.9>100:\n",
    "        p1.append(p)\n",
    "print(p1)"
   ]
  },
  {
   "cell_type": "code",
   "execution_count": 2,
   "id": "6284fe76",
   "metadata": {},
   "outputs": [
    {
     "name": "stdout",
     "output_type": "stream",
     "text": [
      "Time slot 3AM is already allocated to ['Fady', 'Shaheem'].\n",
      "{'3AM': ['Fady', 'Shaheem'], '4AM': ['Mufeed'], '5AM': ['Razeen']}\n"
     ]
    }
   ],
   "source": [
    "#allocate time slots to students\n",
    "arr=[\"3AM\",\"4AM\",\"3AM\",\"5AM\"]\n",
    "name=[\"Fady\",\"Mufeed\",\"Shaheem\",\"Razeen\"]\n",
    "time_slots = {}\n",
    "for i in range(len(arr)):\n",
    "    if arr[i] not in time_slots:\n",
    "        time_slots[arr[i]] = [name[i]]\n",
    "    else:\n",
    "        time_slots[arr[i]].append(name[i])\n",
    "        print(f\"Time slot {arr[i]} is already allocated to {time_slots[arr[i]]}.\")\n",
    "print(time_slots)         "
   ]
  },
  {
   "cell_type": "code",
   "execution_count": 3,
   "id": "ebb6ce1e",
   "metadata": {},
   "outputs": [
    {
     "name": "stdout",
     "output_type": "stream",
     "text": [
      "{'3AM': 2, '4AM': 1, '5AM': 1}\n"
     ]
    }
   ],
   "source": [
    "arr=[\"3AM\",\"4AM\",\"3AM\",\"5AM\"]\n",
    "c={}\n",
    "for i in arr:\n",
    "    if i not in c:\n",
    "        c[i]=1\n",
    "    else:\n",
    "        c[i]+=1\n",
    "print(c)"
   ]
  },
  {
   "cell_type": "code",
   "execution_count": 4,
   "id": "9ad3ea28",
   "metadata": {},
   "outputs": [
    {
     "name": "stdout",
     "output_type": "stream",
     "text": [
      "Counter({'3AM': 2, '4AM': 1, '5AM': 1})\n"
     ]
    }
   ],
   "source": [
    "from collections import Counter\n",
    "arr=[\"3AM\",\"4AM\",\"3AM\",\"5AM\"]\n",
    "slot_count=Counter(arr)\n",
    "print(slot_count)"
   ]
  },
  {
   "cell_type": "code",
   "execution_count": null,
   "id": "ce534805",
   "metadata": {},
   "outputs": [
    {
     "name": "stdout",
     "output_type": "stream",
     "text": [
      "Total Bill: 2900\n",
      "Average Bill: 725.0\n"
     ]
    }
   ],
   "source": [
    "# Electricity Bills\n",
    "units = [10, 5, 2, 12]  \n",
    "rate = 100\n",
    "total_units = sum(units)\n",
    "total_bill = total_units * rate\n",
    "average_bill = total_bill / len(units)\n",
    "print(f\"Total Bill: {total_bill}\")\n",
    "print(\"Average Bill:\", average_bill)\n",
    "\n",
    "\n",
    "\n",
    "\n",
    "\n",
    "\n"
   ]
  },
  {
   "cell_type": "code",
   "execution_count": 7,
   "id": "13bf78fa",
   "metadata": {},
   "outputs": [
    {
     "name": "stdout",
     "output_type": "stream",
     "text": [
      "Total Bill: 2900\n",
      "Average Bill: 725.0\n"
     ]
    }
   ],
   "source": [
    "def calculate_bill(units, rate):\n",
    "    total_units = sum(units)\n",
    "    total_bill = total_units * rate\n",
    "    average_bill = total_bill / len(units)\n",
    "    \n",
    "    return total_bill, average_bill\n",
    "\n",
    "# Input data\n",
    "units = [10, 5, 2, 12]\n",
    "rate = 100\n",
    "\n",
    "# Function call\n",
    "total, average = calculate_bill(units, rate)\n",
    "\n",
    "# Output\n",
    "print(f\"Total Bill: {total}\")\n",
    "print(\"Average Bill:\", average)\n"
   ]
  }
 ],
 "metadata": {
  "kernelspec": {
   "display_name": "Python 3",
   "language": "python",
   "name": "python3"
  },
  "language_info": {
   "codemirror_mode": {
    "name": "ipython",
    "version": 3
   },
   "file_extension": ".py",
   "mimetype": "text/x-python",
   "name": "python",
   "nbconvert_exporter": "python",
   "pygments_lexer": "ipython3",
   "version": "3.13.5"
  }
 },
 "nbformat": 4,
 "nbformat_minor": 5
}
